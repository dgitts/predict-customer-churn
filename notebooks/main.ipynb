{
 "cells": [
  {
   "cell_type": "markdown",
   "metadata": {},
   "source": [
    "# Predict Customer Churn\n",
    "## Problem Statement\n",
    "\n",
    "Customer churn is the percentage of customers that stop using a company service or product during a time period.\n",
    "To calculate the churn rate, divide the number of customers the business lost during a time period by the number of customers the business had at the beginning of that time period.\n",
    "\n",
    "Customer churn rate is an important metric for any business to evaluate because it costs more to acquire new customers than it does to retain existing ones. Returning customers are likely to spend more on various company products and services because they do not need convincing to become a customer. This reduces operating expenses for a business since they do not need to spend as much resources acquiring this business.\n",
    "\n",
    "In this project, a bank would like to identify customer characteristics for customers who are likely to stop using their credit card services. By identifying this KPI, the bank can quickly identify what features greatly affect customer retention and begin targetting these features to minimize churn rate.\n",
    "\n",
    "The data is structured into several data points that the bank tracks for each customer. We will only use a single dataset for this project.\n",
    "## Data Acquisition\n",
    "We obtained this dataset from [LEAPS](https://leapsapp.analyttica.com/cases/11).\n",
    "\n",
    "The dataset contains 10,127 records. There are 20 features and 1 target (Attrition Flag).\n",
    "\n",
    "The data is structured and we will use supervised learning models to make the predictions.\n",
    "## Data Dictionary\n",
    "| Original Column Name     | Data Type | Description                                                                                                                         |\n",
    "|--------------------------|-----------|-------------------------------------------------------------------------------------------------------------------------------------|\n",
    "| Clientnum                | int64       | Client number. Unique identifier for the customer holding the account                                                               |\n",
    "| Attrition_Flag           | category      | Internal event (customer activity) variable - if the account is closed then 1 else 0                                                |\n",
    "| Customer_Age             | int64       | Demographic variable - Customer's Age in Years                                                                                      |\n",
    "| Gender                   | category      | Demographic variable - M=Male, F=Female                                                                                             |\n",
    "| Dependent_count          | int64       | Demographic variable - Number of dependents                                                                                         |\n",
    "| Education_Level          | category      | Demographic variable - Educational Qualification of the account holder (example: high school, college graduate, etc.)               |\n",
    "| Marital_Status           | category      | Demographic variable - Married, Single, Unknown                                                                                     |\n",
    "| Income_Category          | category      | Demographic variable - Annual Income Category of the account holder (< $40K, $40K - 60K, $60K - $80K, $80K-$120K, > $120K, Unknown) |\n",
    "| Card_Category            | category      | Product Variable - Type of Card (Blue, Silver, Gold, Platinum)                                                                      |\n",
    "| Months_on_book           | int64       | Months on book (Time of Relationship)                                                                                               |\n",
    "| Total_Relationship_Count | int64       | Total no. of products held by the customer                                                                                          |\n",
    "| Months_Inactive_12_mon   | int64       | No. of months inactive in the last 12 months                                                                                        |\n",
    "| Contacts_Count_12_mon    | int64       | No. of Contacts in the last 12 months                                                                                               |\n",
    "| Credit_Limit             | float64       | Credit Limit on the Credit Card                                                                                                     |\n",
    "| Total_Revolving_Bal      | int64       | Total Revolving Balance on the Credit Card                                                                                          |\n",
    "| Avg_Open_To_Buy          | float64       | Open to Buy Credit Line (Average of last 12 months)                                                                                 |\n",
    "| Total_Amt_Chng_Q4_Q1     | float64       | Change in Transaction Amount (Q4 over Q1)                                                                                           |\n",
    "| Total_Trans_Amt          | int64       | Total Transaction Amount (Last 12 months)                                                                                           |\n",
    "| Total_Trans_Ct           | int64       | Total Transaction Count (Last 12 months)                                                                                            |\n",
    "| Total_Ct_Chng_Q4_Q1      | float64       | Change in Transaction Count (Q4 over Q1)                                                                                            |\n",
    "| Avg_Utilization_Ratio    | float64       | Average Card Utilization Ratio                                                                                                      |\n",
    "\n",
    "--------"
   ]
  }
 ],
 "metadata": {
  "kernelspec": {
   "display_name": "Python 3",
   "language": "python",
   "name": "python3"
  },
  "language_info": {
   "codemirror_mode": {
    "name": "ipython",
    "version": 3
   },
   "file_extension": ".py",
   "mimetype": "text/x-python",
   "name": "python",
   "nbconvert_exporter": "python",
   "pygments_lexer": "ipython3",
   "version": "3.8.0"
  }
 },
 "nbformat": 4,
 "nbformat_minor": 4
}
