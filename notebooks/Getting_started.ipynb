{
 "cells": [
  {
   "cell_type": "markdown",
   "metadata": {},
   "source": [
    "# Getting started \n",
    "\n",
    "The first thing you need to do is to create a virtual environment. \n",
    "\n",
    "You can create a virtual enviroment either in: \n",
    "\n",
    "1) Virtual env \n",
    "2) Conda\n",
    "\n",
    "\n",
    "\n"
   ]
  },
  {
   "cell_type": "markdown",
   "metadata": {},
   "source": [
    "### Creating a virtual environment using virtual env\n",
    "\n",
    "Note: These instructions apply to Windows only. For Ubuntu and Mac please look at the link at the end of the cell. \n",
    "\n",
    "To create a virtual envirnoment using Virtualenv you need to first install Virtualenv using \n",
    "\n",
    "\n",
    "Note:  You will need to do all this in the windows powershell or Ubunutu terminak\n",
    "``` pip install virtualenv``` \n",
    "\n",
    "To build a virtual env you need to use the command \n",
    "\n",
    "``` python -m venv env_name```\n",
    "\n",
    "you can also use ```python3``` to create a virtualenv. \n",
    "\n",
    "You will notice that in the current folder a new folder with the name ```env_name```. In this folder you need to find the ```activate``` file. \n",
    "\n",
    "Then you will need to run ```.\\path\\to\\activate``` to activate the virtual env. As soon as you do so, you will see that the tag next to your command line will switch from ```(base)``` to ```(env_name)```. That is how you know that your virtual env is activate. \n",
    "\n",
    "In this environment, you can install whatever libraries you want and run the analysis. Once you are done, be sure to do. \n",
    "\n",
    "```pip freeze > requirements.txt``` \n",
    "\n",
    "this ensures that all new packages are recorded.\n",
    "\n",
    "If you want to check which packages are installed in the virtualenv then run \n",
    "\n",
    "```pip freeze ```\n",
    "\n",
    "it will list out all the packages that you have installed in the virtual env. \n",
    "\n",
    "Since you will be workin with jupyter notebooks, you will need to add virtual environments to the jupyter notebook. To do this follow the documentation [here](https://janakiev.com/blog/jupyter-virtual-envs/)\n",
    "\n",
    "You can do this by doing the following. First install ```ipykernel``` using \n",
    "\n",
    "```pip install ipykernel``` \n",
    "\n",
    "whenever you want to add a new virtual environment to the jupyter notebook, run \n",
    "\n",
    "```python -m ipykernel install --name=env_name```\n",
    "\n",
    "now when you the jupyter notebook Homepage you will see a new kernel option in the ```New``` dropdown menu. \n",
    "Alternatively you can switch kernels directly in a jupyter notebook by going to ```Kernel > Change Kernel ```\n",
    "\n",
    "\n",
    "To deactivate a virtual envirnoment simply run \n",
    "\n",
    "```deactivate``` \n",
    "in the command line/powershell\n",
    "\n",
    "If you are using Ubuntu or Mac please look at the detailed instructions found in the link below. \n",
    "\n",
    "For more detailed instructions on virtualenv look here: https://realpython.com/python-virtual-environments-a-primer/\n",
    "\n",
    "\n"
   ]
  },
  {
   "cell_type": "markdown",
   "metadata": {},
   "source": [
    "### Creating a virtual environment using conda\n",
    "\n",
    "Create a virtualenv in conda by running the following\n",
    "\n",
    "```conda create --no-default-packages -n myenv python=3.6```\n",
    "\n",
    "We recommend this so that you can create an entirely empty environment. Then you can install all the relevant pieces. \n",
    "\n",
    "Just like above you can run\n",
    "\n",
    "```pip freeze```\n",
    "\n",
    "to see the list of installed packages\n",
    "\n",
    "You can see a list of conda enviroments you have installed on your machine with \n",
    "\n",
    "```conda env list```\n",
    "\n",
    "Next to activate an enviroment, just type\n",
    "\n",
    "```conda activate myenv```\n",
    "\n",
    "to deactivate the env its \n",
    "\n",
    "```conda deactivate```\n",
    "\n",
    "\n",
    "For more detailed instructions please look here: https://docs.conda.io/projects/conda/en/latest/user-guide/tasks/manage-environments.html"
   ]
  },
  {
   "cell_type": "markdown",
   "metadata": {},
   "source": [
    "\n",
    "## Next Steps\n",
    "Once you have done that and run \n",
    "\n",
    "``` pip install -r requirements.txt``` \n",
    "\n",
    "to install the relevant libraries. Once you have all the libraries you can start by  reading through the following: \n",
    "\n",
    "1) Structing your Project\n",
    "2) Jupyter notebook and Python guide"
   ]
  },
  {
   "cell_type": "markdown",
   "metadata": {},
   "source": [
    "If you are working alone then create a separate directory in this directory to with your name and store all your jupyter notebooks there. Once you are done writing the content, then add the content to ```main.ipynb```. \n",
    "\n",
    "If you are working in a team then create a directory for each writer. This directory will be your personal directory.  Work on notebooks in your personal directory and add them to ```main.ipynb```. \n",
    "\n",
    "When you are creating a new directory. Make sure that you add ```.gitkeep``` file to it. This is an empty file that tells git to commit the directory to github \n"
   ]
  }
 ],
 "metadata": {
  "kernelspec": {
   "display_name": "Python 3",
   "language": "python",
   "name": "python3"
  },
  "language_info": {
   "codemirror_mode": {
    "name": "ipython",
    "version": 3
   },
   "file_extension": ".py",
   "mimetype": "text/x-python",
   "name": "python",
   "nbconvert_exporter": "python",
   "pygments_lexer": "ipython3",
   "version": "3.6.9"
  }
 },
 "nbformat": 4,
 "nbformat_minor": 4
}
